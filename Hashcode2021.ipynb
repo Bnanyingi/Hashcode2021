{
  "nbformat": 4,
  "nbformat_minor": 0,
  "metadata": {
    "colab": {
      "name": "Hashcode2021.ipynb",
      "provenance": [],
      "authorship_tag": "ABX9TyPf/VsZT/gc7NG7v14gmOdA",
      "include_colab_link": true
    },
    "kernelspec": {
      "name": "python3",
      "display_name": "Python 3"
    }
  },
  "cells": [
    {
      "cell_type": "markdown",
      "metadata": {
        "id": "view-in-github",
        "colab_type": "text"
      },
      "source": [
        "<a href=\"https://colab.research.google.com/github/Bnanyingi/Hashcode2021/blob/main/Hashcode2021.ipynb\" target=\"_parent\"><img src=\"https://colab.research.google.com/assets/colab-badge.svg\" alt=\"Open In Colab\"/></a>"
      ]
    },
    {
      "cell_type": "code",
      "metadata": {
        "id": "nzjDfMgIaWeq"
      },
      "source": [
        "import sklearn\r\n",
        "import numpy as np\r\n",
        "import io\r\n",
        "import sys"
      ],
      "execution_count": 1,
      "outputs": []
    },
    {
      "cell_type": "code",
      "metadata": {
        "id": "zqlsPP1ojSFy"
      },
      "source": [
        "def load_data(/content/a.txt):\r\n",
        "  data = {}\r\n",
        "  with io.open(/content/a.txt) as a:\r\n",
        "    "
      ],
      "execution_count": null,
      "outputs": []
    }
  ]
}